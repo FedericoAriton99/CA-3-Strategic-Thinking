{
 "cells": [
  {
   "cell_type": "markdown",
   "id": "798b65cf",
   "metadata": {},
   "source": [
    "# Federico Ariton\n",
    "# Higher Diploma in Science in Data Analytics for Business\n",
    "# CA 1\n",
    "# Student Number:sba2209"
   ]
  },
  {
   "cell_type": "code",
   "execution_count": 1,
   "id": "cec502d0",
   "metadata": {},
   "outputs": [],
   "source": [
    "# Importing the libraries\n",
    "import pandas as pd\n",
    "import numpy as np\n",
    "import warnings\n",
    "warnings.filterwarnings('ignore') \n",
    "import matplotlib.pyplot as plt\n",
    "import seaborn as sns\n",
    "from sklearn.metrics import confusion_matrix"
   ]
  },
  {
   "cell_type": "code",
   "execution_count": null,
   "id": "7952a92b",
   "metadata": {},
   "outputs": [],
   "source": [
    "bank_data = pd.read_csv(\"bank-dataset.csv\" , sep = ';')"
   ]
  },
  {
   "cell_type": "code",
   "execution_count": null,
   "id": "788b8c78",
   "metadata": {},
   "outputs": [],
   "source": []
  }
 ],
 "metadata": {
  "kernelspec": {
   "display_name": "Python 3 (ipykernel)",
   "language": "python",
   "name": "python3"
  },
  "language_info": {
   "codemirror_mode": {
    "name": "ipython",
    "version": 3
   },
   "file_extension": ".py",
   "mimetype": "text/x-python",
   "name": "python",
   "nbconvert_exporter": "python",
   "pygments_lexer": "ipython3",
   "version": "3.11.4"
  }
 },
 "nbformat": 4,
 "nbformat_minor": 5
}
